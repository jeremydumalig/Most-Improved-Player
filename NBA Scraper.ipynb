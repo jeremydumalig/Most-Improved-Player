{
 "cells": [
  {
   "cell_type": "code",
   "execution_count": 20,
   "metadata": {},
   "outputs": [],
   "source": [
    "from webdriver_manager.chrome import ChromeDriverManager\n",
    "from selenium import webdriver\n",
    "from selenium.webdriver.common.by import By\n",
    "from selenium.webdriver.support.ui import WebDriverWait\n",
    "from selenium.webdriver.support import expected_conditions as EC\n",
    "from bs4 import BeautifulSoup\n",
    "import pandas as pd\n",
    "import os"
   ]
  },
  {
   "cell_type": "code",
   "execution_count": 21,
   "metadata": {},
   "outputs": [],
   "source": [
    "# set directory for exporting csv files\n",
    "os.makedirs('historical-data/', exist_ok=True)"
   ]
  },
  {
   "cell_type": "code",
   "execution_count": 22,
   "metadata": {},
   "outputs": [],
   "source": [
    "# Create function that cleans up PLAYER string\n",
    "def player_cleaning(player):\n",
    "    player = player.split(\"\\n\")\n",
    "    player = [i.strip() for i in player]\n",
    "    player = [i for i in player if i] \n",
    "    return player\n",
    "\n",
    "# Create function that scrapes NBA.com data, exports as csv\n",
    "def nba_stats(url, csv_name):\n",
    "    # Open chromedriver to input url\n",
    "    driver = webdriver.Chrome(ChromeDriverManager().install())\n",
    "    driver.get(url)\n",
    "    \n",
    "    # Accept all cookies in NBA.com if applicable\n",
    "    WebDriverWait(driver, 10).until(\n",
    "        EC.element_to_be_clickable((By.XPATH,'//*[@id=\"onetrust-accept-btn-handler\"]'))).click()\n",
    "\n",
    "    # Display all players from dropdown menu\n",
    "    WebDriverWait(driver, 15).until(\n",
    "        EC.element_to_be_clickable((By.XPATH,\"//body/main[1]/div[1]/div[1]/div[2]/div[1]/div[1]/nba-stat-table[1]/div[1]/div[1]/div[1]/select[1]\"))).click()\n",
    "    WebDriverWait(driver, 10).until(\n",
    "        EC.element_to_be_clickable((By.XPATH,\"//body/main[1]/div[1]/div[1]/div[2]/div[1]/div[1]/nba-stat-table[1]/div[1]/div[1]/div[1]/select[1]/option[1]\"))).click()\n",
    "\n",
    "    # Extract HTML using BeautifulSoup\n",
    "    soup = BeautifulSoup(driver.page_source, 'html.parser')\n",
    "\n",
    "    # Quit chromedriver\n",
    "    driver.quit()\n",
    "\n",
    "    # Extract headers as list\n",
    "    headers = [th.getText() for th in soup.find('div', {'class':'nba-stat-table__overflow'}).findAll('th')]\n",
    "    headers = [i for i in headers if \"RANK\" not in i]\n",
    "\n",
    "    # Extract players as list of lists\n",
    "    player_rows = [tr.getText().strip() for tr in soup.tbody.findAll('tr')]\n",
    "    player_rows = [player_cleaning(player) for player in player_rows]\n",
    "    \n",
    "    # Make sure length of headers = length of each row in player_rows\n",
    "    headers = headers[0:len(player_rows[0])]\n",
    "    \n",
    "    # Create dataframe with headers and players, export as csv\n",
    "    df = pd.DataFrame(player_rows, columns = headers)\n",
    "    df.to_csv(csv_name, index=False)"
   ]
  },
  {
   "cell_type": "code",
   "execution_count": 23,
   "metadata": {
    "scrolled": true
   },
   "outputs": [],
   "source": [
    "# Create function that scraptes NBA stats from year 1 to year 2, exports as individual csv files\n",
    "def season_scraper(link, suffix, year1, year2):\n",
    "    nba_string1 = link.split(\"Season=20\")[0] + \"Season=20\"\n",
    "    nba_string2 = link.split(\"Season=20\")[1][5:]\n",
    "\n",
    "    for x in range(0, year2 - year1):\n",
    "        if x < 10:\n",
    "            first = \"0\" + str(x)\n",
    "        else:\n",
    "            first = str(x)\n",
    "\n",
    "        if x + 1 < 10:\n",
    "            second = \"0\" + str(x + 1)\n",
    "        else:\n",
    "            second = str(x + 1)\n",
    "\n",
    "        year = first + \"-\" + second\n",
    "        csv_name = \"historical-data/nba_\" + suffix + second + \".csv\"\n",
    "\n",
    "        nba_stats(nba_string1 + year + nba_string2, csv_name)"
   ]
  },
  {
   "cell_type": "code",
   "execution_count": 24,
   "metadata": {},
   "outputs": [],
   "source": [
    "# Define year 1 and year 2\n",
    "year1 = 2000\n",
    "year2 = 2022\n",
    "\n",
    "# Scrape traditional stats from year 1 to year 2\n",
    "season_scraper(\"https://www.nba.com/stats/players/traditional/?sort=GP&dir=-1&Season=2020-21&SeasonType=Regular%20Season\", \n",
    "               \"traditional\",\n",
    "               year1, year2)\n",
    "\n",
    "# Scrape advanced stats from year 1 to year 2\n",
    "season_scraper(\"https://www.nba.com/stats/players/advanced/?sort=GP&dir=-1&Season=2020-21&SeasonType=Regular%20Season\", \n",
    "               \"advanced\",\n",
    "               year1, year2)"
   ]
  },
  {
   "cell_type": "code",
   "execution_count": 25,
   "metadata": {},
   "outputs": [],
   "source": [
    "# Create function that converts numbers to strings\n",
    "def str_convert(number):\n",
    "    if number < 10:\n",
    "        return \"0\" + str(number)\n",
    "    else:\n",
    "        return str(number)"
   ]
  },
  {
   "cell_type": "code",
   "execution_count": 26,
   "metadata": {
    "scrolled": false
   },
   "outputs": [],
   "source": [
    "# Create list of predictor variables\n",
    "cols = ['AGE', 'MIN', 'PTS', 'FG%', '3P%', 'FT%', 'USG%']\n",
    "\n",
    "# Create empty list, to be filled with dataframes\n",
    "nba_dataframes = []\n",
    "\n",
    "# Iterate through NBA data from year 1 to year 2\n",
    "for x in range(1, 22):\n",
    "    \n",
    "    # Load traditional and advanced stats from year x, merge into one dataframe\n",
    "    trad_one = pd.read_csv(\"historical-data/nba_traditional\" + str_convert(x) + \".csv\", index_col=0)\n",
    "    adv_one = pd.read_csv(\"historical-data/nba_advanced\" + str_convert(x) + \".csv\", index_col=0)\n",
    "    nba_one = trad_one.merge(adv_one[['PLAYER', 'USG%', 'PIE']], on='PLAYER')\n",
    "    \n",
    "    # Load traditional and advanced stats from year x+1, merge into one dataframe\n",
    "    trad_two = pd.read_csv(\"historical-data/nba_traditional\" + str_convert(x + 1) + \".csv\", index_col=0)\n",
    "    adv_two = pd.read_csv(\"historical-data/nba_advanced\" + str_convert(x + 1) + \".csv\", index_col=0)\n",
    "    nba_two = trad_two.merge(adv_two[['PLAYER', 'USG%', 'PIE']], on='PLAYER')\n",
    "    \n",
    "    # Merge dataframes from year x and year x+1\n",
    "    nba = nba_one.merge(nba_two[['PLAYER', 'GP', 'TEAM'] + cols], on='PLAYER', how='inner', suffixes=('', '2'))\n",
    "    \n",
    "    # Create new columns, rename columns\n",
    "    nba['YEAR1'] = 2000 + x \n",
    "    nba['YEAR2'] = 2001 + x \n",
    "    nba['PPG'] = nba.PTS\n",
    "    nba['PPG2'] = nba.PTS2\n",
    "    nba['d_PPG'] = nba.PPG2 - nba.PPG\n",
    "     \n",
    "    # Add dataframe to list of dataframes\n",
    "    nba_dataframes.append(nba)\n",
    "    \n",
    "# Concatenate all dataframes into one\n",
    "nba = pd.concat(nba_dataframes)"
   ]
  },
  {
   "cell_type": "code",
   "execution_count": 27,
   "metadata": {},
   "outputs": [],
   "source": [
    "# Load traditional and advanced stats from 2021-22, merge into one dataframe\n",
    "trad22 = pd.read_csv(\"historical-data/nba_traditional22.csv\", index_col=0)\n",
    "adv22 = pd.read_csv(\"historical-data/nba_advanced22.csv\", index_col=0)\n",
    "nba22 = trad22.merge(adv22[['PLAYER', 'USG%', 'PIE']], on='PLAYER')\n",
    "\n",
    "# Rename column\n",
    "nba22['PPG'] = nba22.PTS"
   ]
  },
  {
   "cell_type": "code",
   "execution_count": 28,
   "metadata": {},
   "outputs": [],
   "source": [
    "# Export dataframes as csv files\n",
    "nba.to_csv(\"historical-data/nba2000s.csv\")\n",
    "nba22.to_csv(\"historical-data/nba22.csv\")"
   ]
  },
  {
   "cell_type": "code",
   "execution_count": null,
   "metadata": {},
   "outputs": [],
   "source": []
  }
 ],
 "metadata": {
  "kernelspec": {
   "display_name": "Python 3",
   "language": "python",
   "name": "python3"
  },
  "language_info": {
   "codemirror_mode": {
    "name": "ipython",
    "version": 3
   },
   "file_extension": ".py",
   "mimetype": "text/x-python",
   "name": "python",
   "nbconvert_exporter": "python",
   "pygments_lexer": "ipython3",
   "version": "3.7.7"
  }
 },
 "nbformat": 4,
 "nbformat_minor": 4
}
